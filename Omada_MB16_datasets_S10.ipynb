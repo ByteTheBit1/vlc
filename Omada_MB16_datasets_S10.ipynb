{
  "nbformat": 4,
  "nbformat_minor": 0,
  "metadata": {
    "kernelspec": {
      "name": "python3",
      "display_name": "Python 3",
      "language": "python"
    },
    "language_info": {
      "mimetype": "text/x-python",
      "nbconvert_exporter": "python",
      "name": "python",
      "pygments_lexer": "ipython3",
      "version": "3.5.4",
      "file_extension": ".py",
      "codemirror_mode": {
        "version": 3,
        "name": "ipython"
      }
    },
    "colab": {
      "name": "Omada MB16   datasets: S10-B11.ipynb",
      "provenance": [],
      "collapsed_sections": [],
      "toc_visible": true,
      "include_colab_link": true
    }
  },
  "cells": [
    {
      "cell_type": "markdown",
      "metadata": {
        "id": "view-in-github",
        "colab_type": "text"
      },
      "source": [
        "<a href=\"https://colab.research.google.com/github/ByteTheBit1/vlc/blob/master/Omada_MB16_datasets_S10.ipynb\" target=\"_parent\"><img src=\"https://colab.research.google.com/assets/colab-badge.svg\" alt=\"Open In Colab\"/></a>"
      ]
    },
    {
      "cell_type": "markdown",
      "metadata": {
        "id": "jHMQWOw4F6_q",
        "colab_type": "text"
      },
      "source": [
        "#Α. Στοιχεία Ομάδας\n",
        "\n",
        "<h1><center> Ομάδα M.Β. 16<center/></h1>\n",
        "\n",
        "<table width=\"320\"> \n",
        "        <tr>\n",
        "            <th><p align=\"left\">Όνομα<p/></th> \n",
        "            <th><p align=\"center\">Επώνυμο<p/></th> \n",
        "            <th><p>ΑΜ<p/></th> \n",
        "        </tr> \n",
        "        <tr> \n",
        "            <td>Ιωάννης</td> \n",
        "            <td>Βονδικάκης</td> \n",
        "            <td>χχχχχχ</td> \n",
        "        </tr> \n",
        "        <tr> \n",
        "            <td>Γεώργιος</td> \n",
        "            <td>Σκουρτσίδης</td> \n",
        "            <td>03114307</td> \n",
        "        </tr> \n",
        "        <tr> \n",
        "            <td>Κωνσταντίνος</td> \n",
        "            <td>Γεωργάς</td> \n",
        "            <td>χχχχχχχ</td> \n",
        "        </tr> \n",
        "  <br>\n",
        "</table>\n",
        "\n",
        "  <br><br>  <br><br>\n",
        "\n",
        "\n",
        "\n",
        "\n",
        "\n",
        "\n",
        "\n",
        "    \n"
      ]
    },
    {
      "cell_type": "markdown",
      "metadata": {
        "id": "jnsX6J-RF6_0",
        "colab_type": "text"
      },
      "source": [
        "#B. Εισαγωγή του dataset\n",
        "\n",
        "<h3>1. Συνοπτική παρουσίαση του dataset</h3>\n",
        "Το Dataset αποτελείται από πληροφορίες οι οποίες προέκυψαν μετά από μετρήσεις πάνω σε φωτογραφίες αυτοκινήτων.Οι φωτογραφίες έχουν ληφθεί από διάφορες γωνίες και αποστάσεις.Υπάρχουν 4 αυτοκίνητα: ένα διπλό λεωφορείο,ένα Σεβρολέτ Βαν,ένα Saab 9000 και ένα Opel Mantra.Σκοπός είναι η σωστή κατηγοριοποίηση των δειγμάτων σε ένα από τα 4 αυτοκίνητα.<br/>\n",
        "<h3>2. Αριθμός δειγμάτων και χαρακτηριστικών, είδος χαρακτηριστικών. Υπάρχουν μη διατεταγμένα χαρακτηριστικά και ποια είναι αυτά;</h3>\n",
        "<STRONG>Αριθμός δειγμάτων</STRONG>:  &nbsp &nbsp&nbsp 845<br>(συνολικά στην έρευνα μαζεύτηκαν 946 δείγματα,αλλά δεν ειναι όλα διαθέσιμα σε εμάς)<br/>\n",
        "<STRONG>Αριθμός χαρακτηριστικών</strong>: &nbsp 18 <br/>\n",
        "<STRONG>Είδος χαρακτηριστικών:</STRONG>  &nbsp &nbspΠραγματικές αριθμητικές τιμές και 1 στήλη με ένα string που αφορά το όνομα της κλάσης όπου ανήκει κάθε δείγμα<br/>Υπάρχουν μη διατατεγμένα χαρακτηριστικά και αφορούν το όνομα του αυτοκινήτου που αφορά το κάθε δείγμα (εκτενέστερα παρακάτω).\n",
        "<h3>3. Υπάρχουν επικεφαλίδες; Αρίθμηση γραμμών;</h3>\n",
        "Δεν υπάρχουν επικεφαλίδες,ούτε αρίθμηση γραμμών.<h3>4. Ποιες είναι οι ετικέτες των κλάσεων και σε ποια κολώνα βρίσκονται; </h3>\n",
        "Έχουμε 19 στήλες αντί για 18 που αναγράφονται,καθώς η τελευταία στήλη αποτελεί το όνομα της κλάσης στην οποία ανήκει το δείγμα.Τα ονόματα των 4 κλάσεων είναι : {saab, opel, bus, van}\n",
        "<h3>5. Χρειάστηκε να κάνετε μετατροπές στα αρχεία text και ποιες? </h3>\n",
        "Το Dataset μας δώθηκε σε πολλά αρχεία .dat ,τα οποία ενώσαμε σε ένα.Στη συνέχεια το μετατρέψαμε σε .csv,με το όνομα \"S10.cvs\".Στο αρχείο οι τιμές των κλάσεων ήταν διαχωρισμένες με \" \" (κενό) και έτσι χρησιμοποιώντας ένα πρόγραμμα επεξεργασίας κειμένου αντικαταστήσαμε τα κενά με \",\" (κόμμα) χρησιμοποιώντας τη λειτουργία \"find and replace\".Στο τέλος των γραμμών απο δείγματα που ανήκαν στις κλάσεις \"van\" και \"bus\" υπήρχε κενό πριν την αλλαγή γραμμής,πράγμα που οδήγησε σε ανεπιθύμητους χαρακτήρες \",\" στο τέλος κάποιων γραμμών,τους οποίους αφαιρέσαμε αντικαθιστώντας τα string \"van,\" με \"van\" και \"bus,\" με \"bus\".Το αρχείο \"S10.cvs\",το οποίο περιέχει τα δεδομένα, αποστέλεται μαζί με το παρόν notebook.\n",
        "<h3>6. Υπάρχουν απουσιάζουσες τιμές; Πόσα είναι τα δείγματα με απουσιάζουσες τιμές και ποιο το ποσοστό τους επί του συνόλου; </h3>\n",
        "Δεν υπάρχουν απουσιάζουσες τιμές.\n",
        "<h3>7. Ποιος είναι ο αριθμός των κλάσεων και τα ποσοστά δειγμάτων τους επί του συνόλου; Αν θεωρήσουμε ότι ένα dataset είναι μη ισορροπημένο αν μια οποιαδήποτε κλάση είναι 1.5 φορά πιο συχνή από κάποια άλλη (60%-40% σε binary datasets) εκτιμήστε την ισορροπία του dataset.</h3>\n",
        "</br>\n",
        "O αριθμός των δειγμάτων κάθε κλάσης είναι :</br>\n",
        "opel$\\to$ 212, \n",
        "saab $\\to$217,\n",
        " bus$\\to$ 218,\n",
        " van$\\to$ 198</br></br>\n",
        "Τα ποσοστά εμφάνισης αντίστοιχα για την κάθε κλάση είναι: <br>\n",
        "25.09% , 25.7% , 25.80% ,   23.43%<br><br>\n",
        "Παρακάτω γίνεται με λεπτομέρεια ο υπολογισμός των ποσοστών κάθε κλάσης καθώς και της καταμέτρησης των δειγμάτων.\n",
        "\n",
        "<h3>8. Διαχωρίστε σε train και test set. Εάν υπάρχουν απουσιάζουσες τιμές και μη διατεταγμένα χαρακτηριστικά διαχειριστείτε τα και αιτιολογήστε τις επιλογές σας.</h3>\n",
        "Δεν έχουμε όυτε μη διατεταγμένα χαρακτηριστικά, ούτε απουσιάζουσες τιμές. "
      ]
    },
    {
      "cell_type": "code",
      "metadata": {
        "trusted": true,
        "id": "jFJVMD2nF6_5",
        "colab_type": "code",
        "outputId": "d021ebf9-8018-4b7f-b9fc-8753db806c91",
        "colab": {
          "base_uri": "https://localhost:8080/",
          "height": 224
        }
      },
      "source": [
        "!pip install --upgrade pip #upgrade pip package installer\n",
        "!pip install scikit-learn --upgrade #upgrade scikit-learn package\n",
        "!pip install numpy --upgrade #upgrade numpy package\n",
        "!pip install pandas --upgrade #upgrade pandas package"
      ],
      "execution_count": 0,
      "outputs": [
        {
          "output_type": "stream",
          "text": [
            "Requirement already up-to-date: pip in /usr/local/lib/python3.6/dist-packages (19.3.1)\n",
            "Requirement already up-to-date: scikit-learn in /usr/local/lib/python3.6/dist-packages (0.22)\n",
            "Requirement already satisfied, skipping upgrade: scipy>=0.17.0 in /usr/local/lib/python3.6/dist-packages (from scikit-learn) (1.3.3)\n",
            "Requirement already satisfied, skipping upgrade: numpy>=1.11.0 in /usr/local/lib/python3.6/dist-packages (from scikit-learn) (1.17.4)\n",
            "Requirement already satisfied, skipping upgrade: joblib>=0.11 in /usr/local/lib/python3.6/dist-packages (from scikit-learn) (0.14.1)\n",
            "Requirement already up-to-date: numpy in /usr/local/lib/python3.6/dist-packages (1.17.4)\n",
            "Requirement already up-to-date: pandas in /usr/local/lib/python3.6/dist-packages (0.25.3)\n",
            "Requirement already satisfied, skipping upgrade: pytz>=2017.2 in /usr/local/lib/python3.6/dist-packages (from pandas) (2018.9)\n",
            "Requirement already satisfied, skipping upgrade: numpy>=1.13.3 in /usr/local/lib/python3.6/dist-packages (from pandas) (1.17.4)\n",
            "Requirement already satisfied, skipping upgrade: python-dateutil>=2.6.1 in /usr/local/lib/python3.6/dist-packages (from pandas) (2.6.1)\n",
            "Requirement already satisfied, skipping upgrade: six>=1.5 in /usr/local/lib/python3.6/dist-packages (from python-dateutil>=2.6.1->pandas) (1.12.0)\n"
          ],
          "name": "stdout"
        }
      ]
    },
    {
      "cell_type": "code",
      "metadata": {
        "trusted": true,
        "id": "AlkrQxrhF7AO",
        "colab_type": "code",
        "colab": {}
      },
      "source": [
        "import pandas as pd\n",
        "import numpy as np\n",
        "import matplotlib.pyplot as plt"
      ],
      "execution_count": 0,
      "outputs": []
    },
    {
      "cell_type": "code",
      "metadata": {
        "trusted": true,
        "id": "dr496q_dF7Aa",
        "colab_type": "code",
        "colab": {}
      },
      "source": [
        "#Συνάρτηση για \"ομορφότερη\" εκτύπωση δισδιάστατων πινάκων, ώστε να μην παρουσιάζονται ως λίστα λιστών.\n",
        "def print_matrix(matrix):\n",
        "    print('\\n'.join(['\\t'.join([str(cell) for cell in row]) for row in matrix]))\n",
        "    "
      ],
      "execution_count": 0,
      "outputs": []
    },
    {
      "cell_type": "code",
      "metadata": {
        "trusted": true,
        "id": "dlKldiqPF7Aj",
        "colab_type": "code",
        "outputId": "cf0d2fdb-ce37-4ab7-b709-5c0a44e20c1b",
        "colab": {
          "base_uri": "https://localhost:8080/",
          "height": 204
        }
      },
      "source": [
        "#Αρχικά πρέπει να γίνει upload αρχείο \"S10.csv\",το οποίο αποστέλλεται μαζί με το παρόν notebook\n",
        "df = pd.read_csv(\"S10.csv\")\n",
        "df.head()"
      ],
      "execution_count": 0,
      "outputs": [
        {
          "output_type": "execute_result",
          "data": {
            "text/html": [
              "<div>\n",
              "<style scoped>\n",
              "    .dataframe tbody tr th:only-of-type {\n",
              "        vertical-align: middle;\n",
              "    }\n",
              "\n",
              "    .dataframe tbody tr th {\n",
              "        vertical-align: top;\n",
              "    }\n",
              "\n",
              "    .dataframe thead th {\n",
              "        text-align: right;\n",
              "    }\n",
              "</style>\n",
              "<table border=\"1\" class=\"dataframe\">\n",
              "  <thead>\n",
              "    <tr style=\"text-align: right;\">\n",
              "      <th></th>\n",
              "      <th>95</th>\n",
              "      <th>48</th>\n",
              "      <th>83</th>\n",
              "      <th>178</th>\n",
              "      <th>72</th>\n",
              "      <th>10</th>\n",
              "      <th>162</th>\n",
              "      <th>42</th>\n",
              "      <th>20</th>\n",
              "      <th>159</th>\n",
              "      <th>176</th>\n",
              "      <th>379</th>\n",
              "      <th>184</th>\n",
              "      <th>70</th>\n",
              "      <th>6</th>\n",
              "      <th>16</th>\n",
              "      <th>187</th>\n",
              "      <th>197</th>\n",
              "      <th>van</th>\n",
              "    </tr>\n",
              "  </thead>\n",
              "  <tbody>\n",
              "    <tr>\n",
              "      <th>0</th>\n",
              "      <td>91</td>\n",
              "      <td>41</td>\n",
              "      <td>84</td>\n",
              "      <td>141</td>\n",
              "      <td>57</td>\n",
              "      <td>9</td>\n",
              "      <td>149</td>\n",
              "      <td>45</td>\n",
              "      <td>19</td>\n",
              "      <td>143</td>\n",
              "      <td>170</td>\n",
              "      <td>330</td>\n",
              "      <td>158</td>\n",
              "      <td>72</td>\n",
              "      <td>9</td>\n",
              "      <td>14</td>\n",
              "      <td>189</td>\n",
              "      <td>199</td>\n",
              "      <td>van</td>\n",
              "    </tr>\n",
              "    <tr>\n",
              "      <th>1</th>\n",
              "      <td>104</td>\n",
              "      <td>50</td>\n",
              "      <td>106</td>\n",
              "      <td>209</td>\n",
              "      <td>66</td>\n",
              "      <td>10</td>\n",
              "      <td>207</td>\n",
              "      <td>32</td>\n",
              "      <td>23</td>\n",
              "      <td>158</td>\n",
              "      <td>223</td>\n",
              "      <td>635</td>\n",
              "      <td>220</td>\n",
              "      <td>73</td>\n",
              "      <td>14</td>\n",
              "      <td>9</td>\n",
              "      <td>188</td>\n",
              "      <td>196</td>\n",
              "      <td>saab</td>\n",
              "    </tr>\n",
              "    <tr>\n",
              "      <th>2</th>\n",
              "      <td>93</td>\n",
              "      <td>41</td>\n",
              "      <td>82</td>\n",
              "      <td>159</td>\n",
              "      <td>63</td>\n",
              "      <td>9</td>\n",
              "      <td>144</td>\n",
              "      <td>46</td>\n",
              "      <td>19</td>\n",
              "      <td>143</td>\n",
              "      <td>160</td>\n",
              "      <td>309</td>\n",
              "      <td>127</td>\n",
              "      <td>63</td>\n",
              "      <td>6</td>\n",
              "      <td>10</td>\n",
              "      <td>199</td>\n",
              "      <td>207</td>\n",
              "      <td>van</td>\n",
              "    </tr>\n",
              "    <tr>\n",
              "      <th>3</th>\n",
              "      <td>85</td>\n",
              "      <td>44</td>\n",
              "      <td>70</td>\n",
              "      <td>205</td>\n",
              "      <td>103</td>\n",
              "      <td>52</td>\n",
              "      <td>149</td>\n",
              "      <td>45</td>\n",
              "      <td>19</td>\n",
              "      <td>144</td>\n",
              "      <td>241</td>\n",
              "      <td>325</td>\n",
              "      <td>188</td>\n",
              "      <td>127</td>\n",
              "      <td>9</td>\n",
              "      <td>11</td>\n",
              "      <td>180</td>\n",
              "      <td>183</td>\n",
              "      <td>bus</td>\n",
              "    </tr>\n",
              "    <tr>\n",
              "      <th>4</th>\n",
              "      <td>107</td>\n",
              "      <td>57</td>\n",
              "      <td>106</td>\n",
              "      <td>172</td>\n",
              "      <td>50</td>\n",
              "      <td>6</td>\n",
              "      <td>255</td>\n",
              "      <td>26</td>\n",
              "      <td>28</td>\n",
              "      <td>169</td>\n",
              "      <td>280</td>\n",
              "      <td>957</td>\n",
              "      <td>264</td>\n",
              "      <td>85</td>\n",
              "      <td>5</td>\n",
              "      <td>9</td>\n",
              "      <td>181</td>\n",
              "      <td>183</td>\n",
              "      <td>bus</td>\n",
              "    </tr>\n",
              "  </tbody>\n",
              "</table>\n",
              "</div>"
            ],
            "text/plain": [
              "    95  48   83  178   72  10  162  42  ...  379  184   70   6  16  187  197   van\n",
              "0   91  41   84  141   57   9  149  45  ...  330  158   72   9  14  189  199   van\n",
              "1  104  50  106  209   66  10  207  32  ...  635  220   73  14   9  188  196  saab\n",
              "2   93  41   82  159   63   9  144  46  ...  309  127   63   6  10  199  207   van\n",
              "3   85  44   70  205  103  52  149  45  ...  325  188  127   9  11  180  183   bus\n",
              "4  107  57  106  172   50   6  255  26  ...  957  264   85   5   9  181  183   bus\n",
              "\n",
              "[5 rows x 19 columns]"
            ]
          },
          "metadata": {
            "tags": []
          },
          "execution_count": 5
        }
      ]
    },
    {
      "cell_type": "code",
      "metadata": {
        "trusted": true,
        "id": "wsakioxwF7As",
        "colab_type": "code",
        "outputId": "2c716e28-cbd4-4c05-a317-7b34aad45e7e",
        "colab": {
          "base_uri": "https://localhost:8080/",
          "height": 34
        }
      },
      "source": [
        "print (df.shape)"
      ],
      "execution_count": 0,
      "outputs": [
        {
          "output_type": "stream",
          "text": [
            "(845, 19)\n"
          ],
          "name": "stdout"
        }
      ]
    },
    {
      "cell_type": "code",
      "metadata": {
        "trusted": true,
        "id": "KP9k8hHHF7A2",
        "colab_type": "code",
        "outputId": "790daf92-8526-488a-98dc-46c391a68dd3",
        "colab": {
          "base_uri": "https://localhost:8080/",
          "height": 204
        }
      },
      "source": [
        "#Τα χαρακτηριστικά αποτελούνται από όλες τις κολόνες των δεδομένων εκτός της τελευταίας η οποία αποτελεί τις ετικέτες κάθε δείγματος. \n",
        "features_df = df.iloc[:, 0:18]\n",
        "# μετατρέπουμε τα dataframes σε numpy array\n",
        "features = features_df.values\n",
        "# ελέγχουμε αν τα χαρακτηριστικά έχουν τη μορφή που θέλουμε\n",
        "print (\"features shape:\\n\",features.shape,\"\\n\")\n",
        "print(\"features:\\n\",features)\n",
        "\n"
      ],
      "execution_count": 0,
      "outputs": [
        {
          "output_type": "stream",
          "text": [
            "features shape:\n",
            " (845, 18) \n",
            "\n",
            "features:\n",
            " [[ 91  41  84 ...  14 189 199]\n",
            " [104  50 106 ...   9 188 196]\n",
            " [ 93  41  82 ...  10 199 207]\n",
            " ...\n",
            " [106  54 101 ...   4 187 201]\n",
            " [ 86  36  78 ...  25 190 195]\n",
            " [ 85  36  66 ...  18 186 190]]\n"
          ],
          "name": "stdout"
        }
      ]
    },
    {
      "cell_type": "code",
      "metadata": {
        "trusted": true,
        "id": "jRqgbB2wF7A8",
        "colab_type": "code",
        "outputId": "7e835e57-2213-48c1-a666-13ffb3a11477",
        "colab": {
          "base_uri": "https://localhost:8080/",
          "height": 289
        }
      },
      "source": [
        "# οι ταμπέλες βρίσκονται στη 19η στήλη \n",
        "target_df = df.iloc[:, [18]]\n",
        "# Θα αντικαταστήσουμε τα ονόματα των κλάσεων με τις ακόλουθες τιμές\n",
        "mapping = {'opel': 0, 'saab': 1, 'bus':2, 'van':3 }\n",
        "target_df = target_df.replace(mapping)\n",
        "print(\"target shape:\\n\",target_df.shape,\"\\n\") # μονοδιάστατος πίνακας [845,1]\n",
        "\n",
        "# μετατρέπουμε το dataframe σε μονοδιάστατο numpy array\n",
        "target_help = target_df.values.flatten()\n",
        "\n",
        "# Δημιουργούμε και εκτυπωνουμε ενα 2-D array με την 1η στήλη την κλάση και 2η στήλη την συχνότητα εμφάνισης\n",
        "label, frequencies = np.unique(target_help, return_counts=True)\n",
        "print (\"frequencies:\\n\",np.asarray((label, frequencies)).T,\"\\n\")\n",
        "# Αριθμός όλων των δειγμάτων\n",
        "total_samples = 845\n",
        "print(\"total samples=\",total_samples,\"\\n\")\n",
        "\n",
        "# Εκτυπώνουμε ένα 2D array με 1η στήλη το όνομα της κλάσης και 2η στήλη το ποσοστό εμφάνισης της κάθε κλάσης\n",
        "percentage = (frequencies / total_samples) * 100\n",
        "print (\"percentages\\n\",np.asarray((label, percentage)).T)\n",
        "\n",
        "\n",
        "# Class distribution: 212->0 , 217->1 , 218->2 , 198 -> 3\n",
        "# percentages:        25.09%    ,  25.7% ,  25.80% ,   23.43%"
      ],
      "execution_count": 0,
      "outputs": [
        {
          "output_type": "stream",
          "text": [
            "target shape:\n",
            " (845, 1) \n",
            "\n",
            "frequencies:\n",
            " [[  0 212]\n",
            " [  1 217]\n",
            " [  2 218]\n",
            " [  3 198]] \n",
            "\n",
            "total samples= 845 \n",
            "\n",
            "percentages\n",
            " [[ 0.         25.0887574 ]\n",
            " [ 1.         25.68047337]\n",
            " [ 2.         25.79881657]\n",
            " [ 3.         23.43195266]]\n"
          ],
          "name": "stdout"
        }
      ]
    },
    {
      "cell_type": "markdown",
      "metadata": {
        "id": "GQWDX99vDL-8",
        "colab_type": "text"
      },
      "source": [
        "Παρατηρούμε  πως το dataset είναι ισορροπημένο(balanced).Μόνο η 4η κλάση παρουσιάζει μια μικρή ανισσοροπία αλλά αυτή η απόκλιση είναι μέσα στα αποδεκτά όρια που ορίζει η εκφώνηση."
      ]
    },
    {
      "cell_type": "markdown",
      "metadata": {
        "id": "kfINX50z6Kb7",
        "colab_type": "text"
      },
      "source": [
        "<h3>Χωρίζουμε σε train,test data</h3>"
      ]
    },
    {
      "cell_type": "code",
      "metadata": {
        "id": "ne0Ci7OUEFH6",
        "colab_type": "code",
        "colab": {}
      },
      "source": [
        "from sklearn.model_selection import train_test_split\n",
        "train, test, train_labels, test_labels = train_test_split(features, target_help, test_size=0.2)"
      ],
      "execution_count": 0,
      "outputs": []
    },
    {
      "cell_type": "markdown",
      "metadata": {
        "id": "UXXV0F3AF7BH",
        "colab_type": "text"
      },
      "source": [
        "#Γ. Βaseline Classification\n",
        "\n",
        "###1.\n",
        "\n",
        "Στο σημείο αυτό κάνουμε απλή εκπαίδευση στους γνωστούς μας classifiers, dummy, gaussian naive bayes, knn και mlp.\n",
        "\n",
        "Για κάθε classifier αποθηκεύουμε σε πίνακα τις τιμές f1_micro και f1_macro, ώστε να τα απεικονίσουμε σε bar plot, και τυπώνουμε confusion matrix, f1_micro, f1_macro αλλά και classification report για να πάρουμε τις τιμές precision και recall"
      ]
    },
    {
      "cell_type": "markdown",
      "metadata": {
        "id": "qBuB6zulF7BK",
        "colab_type": "text"
      },
      "source": [
        "###Dummy Classifiers"
      ]
    },
    {
      "cell_type": "code",
      "metadata": {
        "trusted": true,
        "id": "T4UJDDdWF7BO",
        "colab_type": "code",
        "outputId": "29566959-4e55-496b-fc60-cb8f3ffb886a",
        "colab": {
          "base_uri": "https://localhost:8080/",
          "height": 1000
        }
      },
      "source": [
        "print(\"<------------------------------------------------------------------------------------->\")\n",
        "from sklearn.dummy import DummyClassifier\n",
        "\n",
        "from sklearn.metrics import classification_report\n",
        "from sklearn.metrics import precision_recall_fscore_support\n",
        "from sklearn.metrics import f1_score\n",
        "from sklearn.metrics import confusion_matrix\n",
        "from sklearn.metrics import accuracy_score\n",
        "\n",
        "# Απενεργοποιούμε τις προειδοποιήσεις που δεχόμαστε όταν προσπαθούμε\n",
        "# να υπολογίσουμε f1-score για με τιμές που είναι μηδέν \n",
        "# (διαίρεση με 0).\n",
        "import warnings\n",
        "warnings.filterwarnings(\"ignore\")\n",
        "\n",
        "#πίνακες που θα χρησιμέυσουν για την εκτύπωση των γραφημάτων\n",
        "f1_micro = {}\n",
        "f1_macro = {}\n",
        "\n",
        "\n",
        "##############################################################\n",
        "# Για κάθε Dummy classifier αρχικά κάνουμε fit,στη στυνέχεια #\n",
        "# υπολογίζουμε τα F1 micro,F1 macro scores,καθώς και τους    #\n",
        "# Confusion Matrixes.Στη συνέχεια εκτυπώνουμε στην οθόνη τα  #\n",
        "# αποτελέσματα.Την ίδια μεθολογία θα ακολουθήσουμε και στα   #\n",
        "# υπόλοιπα μοντέλα της άσκησης (knn,GNB,MLP)                 #\n",
        "##############################################################\n",
        "\n",
        "# Dummy Strategy: Uniform \n",
        "dc_uniform = DummyClassifier(strategy=\"uniform\")\n",
        "dc_uniform.fit(train,train_labels)\n",
        "\n",
        "preds = dc_uniform.predict(test)\n",
        "\n",
        "print('\\033[1m'+\" Strategy: uniform\"+'\\033[0m'+\"\\n\")\n",
        "print(classification_report(test_labels,preds),\"\\n\",\"\\n\")\n",
        "\n",
        "f1_micro['Unif']=f1_score(test_labels,preds,average='micro')\n",
        "f1_macro['Unif']=f1_score(test_labels,preds,average='macro')\n",
        "\n",
        "print(\"F1 micro \")\n",
        "print(f1_micro['Unif'],\"\\n\")\n",
        "print(\"F1 macro \")\n",
        "print(f1_macro['Unif'],\"\\n\")\n",
        "\n",
        "\n",
        "print('Confusion Matrix \\n')\n",
        "print(confusion_matrix(test_labels, preds))\n",
        "\n",
        "\n",
        "print(\"\\n\\n----------------------------------------------------------\\n\\n\")\n",
        "\n",
        "\n",
        "# Strategy: Constant=0\n",
        "dc_constant0 = DummyClassifier(strategy=\"constant\",constant=0)\n",
        "dc_constant0.fit(train,train_labels)\n",
        "\n",
        "pred_C0 = dc_constant0.predict(test)\n",
        "\n",
        "print('\\033[1m'+\"Strategy: constant=0\"+'\\033[0m'+\"\\n\")\n",
        "print(classification_report(test_labels,pred_C0),\"\\n\",\"\\n\")\n",
        "\n",
        "f1_micro['C0']=f1_score(test_labels,pred_C0,average='micro')\n",
        "f1_macro['C0']=f1_score(test_labels,pred_C0,average='macro')\n",
        "\n",
        "print(\"F1 micro\")\n",
        "print(f1_micro['C0'],\"\\n\")\n",
        "print(\"F1 macro\")\n",
        "print(f1_macro['C0'],\"\\n\")\n",
        "\n",
        "print('Confusion Matrix \\n')\n",
        "print(confusion_matrix(test_labels, pred_C0))\n",
        "\n",
        "print(\"\\n\\n----------------------------------------------------------\\n\\n\")\n",
        "\n",
        "# Strategy: Constant=1\n",
        "dc_constant1 = DummyClassifier(strategy=\"constant\",constant=1)\n",
        "dc_constant1.fit(train,train_labels)\n",
        "\n",
        "pred_C1 = dc_constant1.predict(test)\n",
        "\n",
        "print('\\033[1m'+\"Strategy: constant=1\"+'\\033[0m')\n",
        "print(classification_report(test_labels,pred_C1),\"\\n\",\"\\n\")\n",
        "\n",
        "f1_micro['C1']=f1_score(test_labels,pred_C1,average='micro')\n",
        "f1_macro['C1']=f1_score(test_labels,pred_C1,average='macro')\n",
        "\n",
        "print(\"F1 micro \")\n",
        "print(f1_micro['C1'],\"\\n\")\n",
        "print(\"F1 macro \")\n",
        "print(f1_macro['C1'],\"\\n\")\n",
        "\n",
        "\n",
        "print('Confusion Matrix \\n')\n",
        "print(confusion_matrix(test_labels, pred_C1),\"\\n\")\n",
        "\n",
        "print(\"\\n\\n----------------------------------------------------------\\n\\n\")\n",
        "\n",
        "\n",
        "# Constant2\n",
        "dc_constant2 = DummyClassifier(strategy=\"constant\",constant=2)\n",
        "dc_constant2.fit(train,train_labels)\n",
        "\n",
        "pred_C2 = dc_constant2.predict(test)\n",
        "\n",
        "print('\\033[1m'+\"Strategy: constant=2\"+'\\033[0m'+\"\\n\")\n",
        "print(classification_report(test_labels,pred_C2),\"\\n\",\"\\n\")\n",
        "\n",
        "f1_micro['C2']=f1_score(test_labels,pred_C2,average='micro')\n",
        "f1_macro['C2']=f1_score(test_labels,pred_C2,average='macro')\n",
        "\n",
        "print(\"F1 micro \")\n",
        "print(f1_micro['C2'],\"\\n\")\n",
        "print(\"F1 macro \")\n",
        "print(f1_macro['C2'],\"\\n\")\n",
        "\n",
        "print('Confusion Matrix \\n')\n",
        "print(confusion_matrix(test_labels, pred_C2),\"\\n\")\n",
        "\n",
        "\n",
        "print(\"\\n\\n----------------------------------------------------------\\n\\n\")\n",
        "\n",
        "\n",
        "# Constant3\n",
        "dc_constant3 = DummyClassifier(strategy=\"constant\",constant=3)\n",
        "dc_constant3.fit(train,train_labels)\n",
        "\n",
        "pred_C3 = dc_constant3.predict(test)\n",
        "\n",
        "print('\\033[1m'+\"Strategy: constant=3\"+'\\033[0m'+\"\\n\")\n",
        "print(classification_report(test_labels,pred_C3),\"\\n\",\"\\n\")\n",
        "\n",
        "f1_micro['C3']=f1_score(test_labels,pred_C3,average='micro')\n",
        "f1_macro['C3']=f1_score(test_labels,pred_C3,average='macro')\n",
        "\n",
        "print(\"F1 micro\")\n",
        "print(f1_micro['C3'],\"\\n\")\n",
        "print(\"F1 macro\")\n",
        "print(f1_macro['C3'],\"\\n\")\n",
        "\n",
        "\n",
        "print('Confusion Matrix \\n')\n",
        "print(confusion_matrix(test_labels, pred_C3),\"\\n\")\n",
        "\n",
        "\n",
        "\n",
        "print(\"\\n\\n----------------------------------------------------------\\n\\n\")\n",
        "\n",
        "\n",
        "# Strategy: Most Frequent\n",
        "dc_most_frequent = DummyClassifier(strategy=\"most_frequent\")\n",
        "dc_most_frequent.fit(train,train_labels)\n",
        "\n",
        "pred_MF = dc_most_frequent.predict(test)\n",
        "\n",
        "print('\\033[1m'+\"Strategy: Most Frequent\"+'\\033[0m'+\"\\n\")\n",
        "print(classification_report(test_labels,pred_MF),\"\\n\",\"\\n\")\n",
        "\n",
        "f1_micro['MFreq']=f1_score(test_labels,pred_MF,average='micro')\n",
        "f1_macro['MFreq']=f1_score(test_labels,pred_MF,average='macro')\n",
        "\n",
        "print(\"F1 micro \")\n",
        "print(f1_micro['MFreq'],\"\\n\")\n",
        "print(\"F1 macro \")\n",
        "print(f1_macro['MFreq'],\"\\n\")\n",
        "\n",
        "\n",
        "print('Confusion Matrix \\n')\n",
        "print(confusion_matrix(test_labels, pred_MF),\"\\n\")\n",
        "\n",
        "\n",
        "print(\"\\n\\n----------------------------------------------------------\\n\\n\")\n",
        "\n",
        "\n",
        "# Strategy: Strafified\n",
        "dc_stratified = DummyClassifier(strategy=\"stratified\")\n",
        "dc_stratified.fit(train,train_labels)\n",
        "\n",
        "pred_Strat = dc_stratified.predict(test)\n",
        "\n",
        "print('\\033[1m'+\"Strategy: stratified\"+'\\033[0m'+\"\\n\")\n",
        "print(classification_report(test_labels,pred_Strat),\"\\n\",\"\\n\")\n",
        "\n",
        "\n",
        "f1_micro['Strat']=f1_score(test_labels,pred_Strat,average='micro')\n",
        "f1_macro['Strat']=f1_score(test_labels,pred_Strat,average='macro')\n",
        "\n",
        "print(\"F1 micro \")\n",
        "print(f1_micro['Strat'],\"\\n\")\n",
        "print(\"F1 macro \")\n",
        "print(f1_macro['Strat'],\"\\n\")\n",
        "\n",
        "\n",
        "print('Confusion Matrix \\n')\n",
        "print(confusion_matrix(test_labels, pred_Strat),\"\\n\")\n",
        "\n",
        "print(\"<------------------------------------------------------------------------------------->\")"
      ],
      "execution_count": 63,
      "outputs": [
        {
          "output_type": "stream",
          "text": [
            "<------------------------------------------------------------------------------------->\n",
            "\u001b[1m Strategy: uniform\u001b[0m\n",
            "\n",
            "              precision    recall  f1-score   support\n",
            "\n",
            "           0       0.36      0.30      0.33        46\n",
            "           1       0.27      0.21      0.24        48\n",
            "           2       0.18      0.18      0.18        34\n",
            "           3       0.32      0.46      0.38        41\n",
            "\n",
            "    accuracy                           0.29       169\n",
            "   macro avg       0.28      0.29      0.28       169\n",
            "weighted avg       0.29      0.29      0.28       169\n",
            " \n",
            " \n",
            "\n",
            "F1 micro \n",
            "0.28994082840236685 \n",
            "\n",
            "F1 macro \n",
            "0.2800119959318145 \n",
            "\n",
            "Confusion Matrix \n",
            "\n",
            "[[14 11  7 14]\n",
            " [10 10 10 18]\n",
            " [11  8  6  9]\n",
            " [ 4  8 10 19]]\n",
            "\n",
            "\n",
            "----------------------------------------------------------\n",
            "\n",
            "\n",
            "\u001b[1mStrategy: constant=0\u001b[0m\n",
            "\n",
            "              precision    recall  f1-score   support\n",
            "\n",
            "           0       0.27      1.00      0.43        46\n",
            "           1       0.00      0.00      0.00        48\n",
            "           2       0.00      0.00      0.00        34\n",
            "           3       0.00      0.00      0.00        41\n",
            "\n",
            "    accuracy                           0.27       169\n",
            "   macro avg       0.07      0.25      0.11       169\n",
            "weighted avg       0.07      0.27      0.12       169\n",
            " \n",
            " \n",
            "\n",
            "F1 micro\n",
            "0.27218934911242604 \n",
            "\n",
            "F1 macro\n",
            "0.10697674418604651 \n",
            "\n",
            "Confusion Matrix \n",
            "\n",
            "[[46  0  0  0]\n",
            " [48  0  0  0]\n",
            " [34  0  0  0]\n",
            " [41  0  0  0]]\n",
            "\n",
            "\n",
            "----------------------------------------------------------\n",
            "\n",
            "\n",
            "\u001b[1mStrategy: constant=1\u001b[0m\n",
            "              precision    recall  f1-score   support\n",
            "\n",
            "           0       0.00      0.00      0.00        46\n",
            "           1       0.28      1.00      0.44        48\n",
            "           2       0.00      0.00      0.00        34\n",
            "           3       0.00      0.00      0.00        41\n",
            "\n",
            "    accuracy                           0.28       169\n",
            "   macro avg       0.07      0.25      0.11       169\n",
            "weighted avg       0.08      0.28      0.13       169\n",
            " \n",
            " \n",
            "\n",
            "F1 micro \n",
            "0.28402366863905326 \n",
            "\n",
            "F1 macro \n",
            "0.11059907834101382 \n",
            "\n",
            "Confusion Matrix \n",
            "\n",
            "[[ 0 46  0  0]\n",
            " [ 0 48  0  0]\n",
            " [ 0 34  0  0]\n",
            " [ 0 41  0  0]] \n",
            "\n",
            "\n",
            "\n",
            "----------------------------------------------------------\n",
            "\n",
            "\n",
            "\u001b[1mStrategy: constant=2\u001b[0m\n",
            "\n",
            "              precision    recall  f1-score   support\n",
            "\n",
            "           0       0.00      0.00      0.00        46\n",
            "           1       0.00      0.00      0.00        48\n",
            "           2       0.20      1.00      0.33        34\n",
            "           3       0.00      0.00      0.00        41\n",
            "\n",
            "    accuracy                           0.20       169\n",
            "   macro avg       0.05      0.25      0.08       169\n",
            "weighted avg       0.04      0.20      0.07       169\n",
            " \n",
            " \n",
            "\n",
            "F1 micro \n",
            "0.20118343195266272 \n",
            "\n",
            "F1 macro \n",
            "0.08374384236453203 \n",
            "\n",
            "Confusion Matrix \n",
            "\n",
            "[[ 0  0 46  0]\n",
            " [ 0  0 48  0]\n",
            " [ 0  0 34  0]\n",
            " [ 0  0 41  0]] \n",
            "\n",
            "\n",
            "\n",
            "----------------------------------------------------------\n",
            "\n",
            "\n",
            "\u001b[1mStrategy: constant=3\u001b[0m\n",
            "\n",
            "              precision    recall  f1-score   support\n",
            "\n",
            "           0       0.00      0.00      0.00        46\n",
            "           1       0.00      0.00      0.00        48\n",
            "           2       0.00      0.00      0.00        34\n",
            "           3       0.24      1.00      0.39        41\n",
            "\n",
            "    accuracy                           0.24       169\n",
            "   macro avg       0.06      0.25      0.10       169\n",
            "weighted avg       0.06      0.24      0.09       169\n",
            " \n",
            " \n",
            "\n",
            "F1 micro\n",
            "0.24260355029585798 \n",
            "\n",
            "F1 macro\n",
            "0.09761904761904762 \n",
            "\n",
            "Confusion Matrix \n",
            "\n",
            "[[ 0  0  0 46]\n",
            " [ 0  0  0 48]\n",
            " [ 0  0  0 34]\n",
            " [ 0  0  0 41]] \n",
            "\n",
            "\n",
            "\n",
            "----------------------------------------------------------\n",
            "\n",
            "\n",
            "\u001b[1mStrategy: Most Frequent\u001b[0m\n",
            "\n",
            "              precision    recall  f1-score   support\n",
            "\n",
            "           0       0.00      0.00      0.00        46\n",
            "           1       0.00      0.00      0.00        48\n",
            "           2       0.20      1.00      0.33        34\n",
            "           3       0.00      0.00      0.00        41\n",
            "\n",
            "    accuracy                           0.20       169\n",
            "   macro avg       0.05      0.25      0.08       169\n",
            "weighted avg       0.04      0.20      0.07       169\n",
            " \n",
            " \n",
            "\n",
            "F1 micro \n",
            "0.20118343195266272 \n",
            "\n",
            "F1 macro \n",
            "0.08374384236453203 \n",
            "\n",
            "Confusion Matrix \n",
            "\n",
            "[[ 0  0 46  0]\n",
            " [ 0  0 48  0]\n",
            " [ 0  0 34  0]\n",
            " [ 0  0 41  0]] \n",
            "\n",
            "\n",
            "\n",
            "----------------------------------------------------------\n",
            "\n",
            "\n",
            "\u001b[1mStrategy: stratified\u001b[0m\n",
            "\n",
            "              precision    recall  f1-score   support\n",
            "\n",
            "           0       0.23      0.22      0.22        46\n",
            "           1       0.26      0.21      0.23        48\n",
            "           2       0.19      0.26      0.22        34\n",
            "           3       0.22      0.22      0.22        41\n",
            "\n",
            "    accuracy                           0.22       169\n",
            "   macro avg       0.23      0.23      0.22       169\n",
            "weighted avg       0.23      0.22      0.23       169\n",
            " \n",
            " \n",
            "\n",
            "F1 micro \n",
            "0.22485207100591717 \n",
            "\n",
            "F1 macro \n",
            "0.22475291450066315 \n",
            "\n",
            "Confusion Matrix \n",
            "\n",
            "[[10 13 10 13]\n",
            " [14 10 15  9]\n",
            " [ 8  7  9 10]\n",
            " [11  8 13  9]] \n",
            "\n",
            "<------------------------------------------------------------------------------------->\n"
          ],
          "name": "stdout"
        }
      ]
    },
    {
      "cell_type": "markdown",
      "metadata": {
        "id": "s8dURZFvF7BV",
        "colab_type": "text"
      },
      "source": [
        "###k-Nearest Neighbors Classifier (kNN)"
      ]
    },
    {
      "cell_type": "code",
      "metadata": {
        "trusted": true,
        "id": "inPfStEXF7BZ",
        "colab_type": "code",
        "outputId": "c13da736-93fd-4f3f-e521-389089fe0536",
        "colab": {
          "base_uri": "https://localhost:8080/",
          "height": 493
        }
      },
      "source": [
        "print(\"--------------------------------------------------------------------------\")\n",
        "from sklearn import neighbors\n",
        "\n",
        "clf = neighbors.KNeighborsClassifier() \n",
        "clf.fit(train, train_labels)\n",
        "\n",
        "knn_pred = clf.predict(test)\n",
        "\n",
        "\n",
        "print('\\033[1m'+\"k Nearest Neighbors Model\"+'\\033[0m'+\"\\n\\n\")\n",
        "print(classification_report(test_labels,knn_pred))\n",
        "\n",
        "f1_micro['kΝΝ']=f1_score(test_labels,knn_pred,average='micro')\n",
        "f1_macro['kΝΝ']=f1_score(test_labels,knn_pred,average='macro')\n",
        "\n",
        "\n",
        "print(\"F1 micro\")\n",
        "print(f1_micro['kΝΝ'],\"\\n\")\n",
        "print(\"F1 macro\")\n",
        "print(f1_macro['kΝΝ'],\"\\n\")\n",
        "\n",
        "print('Confusion Matrix \\n')\n",
        "print(confusion_matrix(test_labels, knn_pred))    \n",
        "print(\"--------------------------------------------------------------------------\")                           "
      ],
      "execution_count": 64,
      "outputs": [
        {
          "output_type": "stream",
          "text": [
            "--------------------------------------------------------------------------\n",
            "\u001b[1mk Nearest Neighbors Model\u001b[0m\n",
            "\n",
            "\n",
            "              precision    recall  f1-score   support\n",
            "\n",
            "           0       0.48      0.52      0.50        46\n",
            "           1       0.54      0.44      0.48        48\n",
            "           2       0.81      0.85      0.83        34\n",
            "           3       0.86      0.93      0.89        41\n",
            "\n",
            "    accuracy                           0.66       169\n",
            "   macro avg       0.67      0.68      0.68       169\n",
            "weighted avg       0.66      0.66      0.66       169\n",
            "\n",
            "F1 micro\n",
            "0.6627218934911243 \n",
            "\n",
            "F1 macro\n",
            "0.6763619240799768 \n",
            "\n",
            "Confusion Matrix \n",
            "\n",
            "[[24 15  2  5]\n",
            " [22 21  4  1]\n",
            " [ 3  2 29  0]\n",
            " [ 1  1  1 38]]\n",
            "--------------------------------------------------------------------------\n"
          ],
          "name": "stdout"
        }
      ]
    },
    {
      "cell_type": "markdown",
      "metadata": {
        "id": "sSPvPpFlF7Bj",
        "colab_type": "text"
      },
      "source": [
        "###Gaussian Naive Bayes\n"
      ]
    },
    {
      "cell_type": "code",
      "metadata": {
        "trusted": true,
        "id": "bG1Mjj7UF7Bk",
        "colab_type": "code",
        "outputId": "42ddf62d-a82a-4fa0-d07d-36622ea2d7d6",
        "colab": {
          "base_uri": "https://localhost:8080/",
          "height": 510
        }
      },
      "source": [
        "print(\"--------------------------------------------------------------------------\")\n",
        "\n",
        "from sklearn.naive_bayes import GaussianNB\n",
        "\n",
        "\n",
        "gnb = GaussianNB()\n",
        "gnb.fit(train,train_labels)\n",
        "\n",
        "gnb_pred = gnb.predict(test)\n",
        "\n",
        "print('\\033[1m'+\"Gaussian Naive Bayes\"+'\\033[0m'+\"\\n\\n\")\n",
        "print(classification_report(test_labels,gnb_pred),\"\\n\\n\")\n",
        "\n",
        "f1_micro['GNB']=f1_score(test_labels,gnb_pred,average='micro')\n",
        "f1_macro['GNB']=f1_score(test_labels,gnb_pred,average='macro')\n",
        "\n",
        "print(\"F1 micro\")\n",
        "print(f1_micro['GNB'],\"\\n\")\n",
        "print(\"F1 macro\")\n",
        "print(f1_macro['GNB'],\"\\n\")\n",
        "\n",
        "print('Confusion Matrix ')\n",
        "print(confusion_matrix(test_labels, gnb_pred))\n",
        "\n",
        "print(\"----------------------------------------------------------------------------------\")"
      ],
      "execution_count": 65,
      "outputs": [
        {
          "output_type": "stream",
          "text": [
            "--------------------------------------------------------------------------\n",
            "\u001b[1mGaussian Naive Bayes\u001b[0m\n",
            "\n",
            "\n",
            "              precision    recall  f1-score   support\n",
            "\n",
            "           0       0.59      0.37      0.45        46\n",
            "           1       0.51      0.50      0.51        48\n",
            "           2       0.88      0.21      0.33        34\n",
            "           3       0.45      0.93      0.60        41\n",
            "\n",
            "    accuracy                           0.51       169\n",
            "   macro avg       0.60      0.50      0.47       169\n",
            "weighted avg       0.59      0.51      0.48       169\n",
            " \n",
            "\n",
            "\n",
            "F1 micro\n",
            "0.5088757396449705 \n",
            "\n",
            "F1 macro\n",
            "0.47377610693400174 \n",
            "\n",
            "Confusion Matrix \n",
            "[[17 19  0 10]\n",
            " [ 8 24  1 15]\n",
            " [ 4  1  7 22]\n",
            " [ 0  3  0 38]]\n",
            "----------------------------------------------------------------------------------\n"
          ],
          "name": "stdout"
        }
      ]
    },
    {
      "cell_type": "markdown",
      "metadata": {
        "id": "4GpfFzuqF7Br",
        "colab_type": "text"
      },
      "source": [
        "### Multilayer Perceptron (MLP)"
      ]
    },
    {
      "cell_type": "code",
      "metadata": {
        "trusted": true,
        "id": "4Swec1PBF7Bt",
        "colab_type": "code",
        "outputId": "102547eb-8b88-4cea-ae77-00ebcf732bba",
        "colab": {
          "base_uri": "https://localhost:8080/",
          "height": 510
        }
      },
      "source": [
        "print(\"--------------------------------------------------------------------------\")\n",
        "\n",
        "###################################################################\n",
        "# Θα χρησιμοποιήσουμε τον MLP ταξινομητή χωρίς να ορίσουμε τιμές, #\n",
        "# πράγμα που σημαίνει πως θα χρησιμοποηθούν οι default τιμές      #\n",
        "# #################################################################\n",
        "\n",
        "from sklearn.neural_network import MLPClassifier\n",
        "\n",
        "clf = MLPClassifier()\n",
        "\n",
        "clf.fit(train,train_labels)\n",
        "mlp_pred = clf.predict(test)\n",
        "\n",
        "print('\\033[1m'+\"Multilayer Perceptron\"+'\\033[0m'+\"\\n\\n\")\n",
        "print(classification_report(test_labels,mlp_pred),\"\\n\\n\")\n",
        "\n",
        "f1_micro['MLP']=f1_score(test_labels,mlp_pred,average='micro')\n",
        "f1_macro['MLP']=f1_score(test_labels,mlp_pred,average='macro')\n",
        "\n",
        "print(\"F1 micro\")\n",
        "print(f1_micro['MLP'],\"\\n\")\n",
        "print(\"F1 macro \")\n",
        "print(f1_macro['MLP'],\"\\n\")\n",
        "\n",
        "\n",
        "print('Confusion Matrix ')\n",
        "print(confusion_matrix(test_labels, mlp_pred))\n",
        "print(\"--------------------------------------------------------------------------\")\n",
        "\n"
      ],
      "execution_count": 69,
      "outputs": [
        {
          "output_type": "stream",
          "text": [
            "--------------------------------------------------------------------------\n",
            "\u001b[1mMultilayer Perceptron\u001b[0m\n",
            "\n",
            "\n",
            "              precision    recall  f1-score   support\n",
            "\n",
            "           0       0.47      0.74      0.58        46\n",
            "           1       0.62      0.17      0.26        48\n",
            "           2       0.70      0.97      0.81        34\n",
            "           3       0.81      0.73      0.77        41\n",
            "\n",
            "    accuracy                           0.62       169\n",
            "   macro avg       0.65      0.65      0.61       169\n",
            "weighted avg       0.64      0.62      0.58       169\n",
            " \n",
            "\n",
            "\n",
            "F1 micro\n",
            "0.621301775147929 \n",
            "\n",
            "F1 macro \n",
            "0.6056529631133689 \n",
            "\n",
            "Confusion Matrix \n",
            "[[34  4  6  2]\n",
            " [28  8  7  5]\n",
            " [ 1  0 33  0]\n",
            " [ 9  1  1 30]]\n",
            "--------------------------------------------------------------------------\n"
          ],
          "name": "stdout"
        }
      ]
    },
    {
      "cell_type": "markdown",
      "metadata": {
        "id": "CduTCjnCF7B2",
        "colab_type": "text"
      },
      "source": [
        "###Γραφικές παραστάσεις"
      ]
    },
    {
      "cell_type": "code",
      "metadata": {
        "trusted": true,
        "id": "WXX6KNPDF7B4",
        "colab_type": "code",
        "outputId": "58db385b-ab82-408f-9880-01c8c8f79d72",
        "colab": {
          "base_uri": "https://localhost:8080/",
          "height": 545
        }
      },
      "source": [
        "import matplotlib.pyplot as plt\n",
        "\n",
        "plt.title('F1_micro average scores')\n",
        "plt.bar(range(len(f1_micro)), list(f1_micro.values()), align='center')\n",
        "plt.xticks(range(len(f1_micro)), list(f1_micro.keys()))\n",
        "\n",
        "\n",
        "plt.show()\n",
        "\n",
        "plt.title('F1_macro average scores')\n",
        "plt.bar(range(len(f1_macro)), list(f1_macro.values()), align='center')\n",
        "plt.xticks(range(len(f1_macro)), list(f1_macro.keys()))\n",
        "\n",
        "\n",
        "plt.show()\n",
        "\n"
      ],
      "execution_count": 70,
      "outputs": [
        {
          "output_type": "display_data",
          "data": {
            "image/png": "[encoded data removed]",
            "text/plain": [
              "<Figure size 432x288 with 1 Axes>"
            ]
          },
          "metadata": {
            "tags": []
          }
        },
        {
          "output_type": "display_data",
          "data": {
            "image/png": "[encoded data removed]",
            "text/plain": [
              "<Figure size 432x288 with 1 Axes>"
            ]
          },
          "metadata": {
            "tags": []
          }
        }
      ]
    },
    {
      "cell_type": "markdown",
      "metadata": {
        "id": "lZHC-fzJF7CR",
        "colab_type": "text"
      },
      "source": [
        "## Σχολιασμός Αποτελεσμάτων\n",
        "Παρατηρούμε πως οι Dummy classifiers  με constant τιμές έχουν πάρα πολύ χαμηλή αποτελεσματικότητα,πράγμα που περιμέναμε μιας και κάνουμε multiclass classification.<br/>\n",
        "\n",
        "Επιπλέον,μιας και δεν έχουμε ορίσει random_state όταν κάναμε split τα data σε train,test αλλά ούτε και στο MLP μοντέλο ή στο dummy uniform ταξινομητή, τα αποτελέσματά μας θα διαφέρουν κάθε φορά που πραγματοποιούμε την ταξινόμηση.<br/>\n",
        "\n",
        "Ο ταξινομητής με την υψηλότερα ακρίβεια είναι ο kNN ταξινομητής,με εξαίρεση κάποιες φορές,όπου ο MPL κατάφερε να τον ξεπεράσει σε ακρίβεια.<br/>\n",
        "\n",
        "Σε αυτήν την άσκηση δε δίνουμε σημασία στο precision και στο recall,καθώς όλες οι κλάσεις είναι το ίδιο σημαντικές.</br>\n",
        "\n",
        "Οι constant classifiers είχαν καλύτερη απόδοση στο f1-micro score,συγκριτικά με το f1-macro.Αυτό συμβαίνει διότι το macro score συνυπολογίζei κάθε κλάση ισάξια,ενώ στο micro score κάθε κλάση συνεισφέρει στο αποτέλεσμα σύμφωνα με το ποσοστό εμφάνισής της κάθε κλάσης.\n",
        "\n",
        "Γενικότερα λοιπόν αν και παρατηρούμε αναμενόμενα αποτελέσματα ανάλογα με το είδος του ταξινομητή, τα αποτελέσματα δεν είναι ικανοποιητικά (σύμφωνα με τις προδιαγραφές των δεδομένων που δίνονται στην πριγραφή του, διότι μια απλή εικόνα των μετρικών ενός ταξινομητή δεν μπορεί να χαρακτηριστεί καλή ή κακή εάν δεν γνωρίζουμε τις δυνατότητες του συγκεκριμένου συνόλου δεδομένων. Για αυτό το λόγο προχωράμε σε προεπεξεργασία των δεδομένων αλλά και βελτιστοποίηση των παραμέτρων των ταξινομητών ώστε να οδηγηθούμε σε καλύτερα αποτελέσματα."
      ]
    },
    {
      "cell_type": "markdown",
      "metadata": {
        "id": "eP0N8q5rF7CU",
        "colab_type": "text"
      },
      "source": [
        "#Δ. Βελτιστοποίηση ταξινομητών"
      ]
    },
    {
      "cell_type": "markdown",
      "metadata": {
        "id": "v6LpeT23F7CW",
        "colab_type": "text"
      },
      "source": [
        "##Προεπεξεργασία δεδομένων\n",
        "\n",
        "Απουσιάζουσες τιμές χαρακτηριστικών $\\to$ Δεν έχουμε απουσιάζουσες τιμές χαρακτηριστικών, άρα δεν υπάρχει κάποια βελτιστοποίηση να πραγματοποιηθεί στο συγκεκριμένο κομμάτι. <br/>\n",
        "\n",
        "Αριθμητικά και κατηγορικά χαρακτηριστικά $\\to$ Όλα μας τα χαρακτηριστικά είναι(πλέον) αριθμητικά, κι έτσι δεν υπάρχει κάποια τροποποίηση που πρέπει να γίνει στα δεδομένα μας.\n",
        "\n",
        "Η κατάρα της διαστατικότητας (Curse of dimensionality) $\\to$ Έχουμε ένα σύνολο δεδομένων το οποίο δεν έχει πολύ μεγάλο πλήθος χαρακτηριστικών συγκριτικά με το πλήθος των δειγμάτων.Ίσως όμως μπορούμε να βελτιώσουμε τα αποτελέσματα μας διαγράφοντας κάποια attributes με πολύ μικρό variance\n",
        "\n",
        "Ξεκινάμε με τη μείωση των διαστάσεων εισόδου."
      ]
    },
    {
      "cell_type": "markdown",
      "metadata": {
        "id": "sPb6c3S4P_Tf",
        "colab_type": "text"
      },
      "source": [
        "###Επιλογή Χαρακτηριστικών -Selector\n"
      ]
    },
    {
      "cell_type": "code",
      "metadata": {
        "trusted": true,
        "id": "u6_UVKXpF7CY",
        "colab_type": "code",
        "outputId": "c3285ca3-5457-481f-9f55-edd82af803f4",
        "colab": {
          "base_uri": "https://localhost:8080/",
          "height": 190
        }
      },
      "source": [
        "from sklearn.feature_selection import VarianceThreshold\n",
        "\n",
        "train_variance = train.var(axis=0)\n",
        "print(\"Train variance: (sorted)\\n\",sorted(train_variance),\"\\n\")\n",
        "print(\"Max variance of a label:\\n\",np.max(train_variance),\"\\n\")\n",
        "print(\"Mean:\\n\",train_variance.mean(),\"\\n\")"
      ],
      "execution_count": 71,
      "outputs": [
        {
          "output_type": "stream",
          "text": [
            "Train variance: (sorted)\n",
            " [6.687394961661024, 23.59979298694023, 24.958744004061476, 36.81471893491129, 37.10830328069721, 53.31878041735225, 57.95797372290893, 59.25739644970415, 68.62319903014588, 68.92975342249916, 80.0737281607786, 208.3283761072794, 237.8177147158712, 978.586313066768, 1003.2010674521197, 1090.4486603235175, 1132.3872304015974, 31024.30868141875] \n",
            "\n",
            "Max variance of a label:\n",
            " 31024.30868141875 \n",
            "\n",
            "Mean:\n",
            " 2010.6893238254206 \n",
            "\n"
          ],
          "name": "stdout"
        }
      ]
    },
    {
      "cell_type": "code",
      "metadata": {
        "trusted": true,
        "id": "PbgELBsEF7Cf",
        "colab_type": "code",
        "outputId": "10556de5-e5e0-4462-81bd-53a2a95f548f",
        "colab": {
          "base_uri": "https://localhost:8080/",
          "height": 34
        }
      },
      "source": [
        "#Παρατηρούμε πως έχουμε χαρακτηριστικά με διακύμανση κάτω του 10 μέχρι και χαρακτηριστικά με διακύμανση της 10^3. \n",
        "\n",
        "selector = VarianceThreshold(threshold=40)\n",
        "\n",
        "train_reduced = selector.fit_transform(train)\n",
        "mask = selector.get_support()\n",
        "test_reduced =test[:,mask]\n",
        "\n",
        "print(train_reduced.shape)"
      ],
      "execution_count": 72,
      "outputs": [
        {
          "output_type": "stream",
          "text": [
            "(676, 13)\n"
          ],
          "name": "stdout"
        }
      ]
    },
    {
      "cell_type": "markdown",
      "metadata": {
        "id": "jWJb5PjwF7Cl",
        "colab_type": "text"
      },
      "source": [
        "### Kανονικοποίηση χαρακτηριστικών."
      ]
    },
    {
      "cell_type": "code",
      "metadata": {
        "trusted": true,
        "id": "WkpZhrHOF7Cn",
        "colab_type": "code",
        "colab": {}
      },
      "source": [
        "from sklearn import preprocessing\n",
        "from sklearn.preprocessing import StandardScaler\n",
        "from sklearn.preprocessing import MinMaxScaler\n",
        "\n",
        "scaler = StandardScaler()\n",
        "#scaler = MinMaxScaler()\n",
        "\n",
        "#X_train_scaled = preprocessing.scale(train_reduced) #Εναλλακτικός τρόπος να κανονικοποιήσουμε τα δεδομένα train \n",
        "\n",
        "scaler = preprocessing.StandardScaler().fit(train_reduced)\n",
        "train_scaled = scaler.transform(train_reduced)\n",
        "test_scaled = scaler.transform(test_reduced)\n",
        "\n",
        "#Υπάρχει και η επολογή του min max scaler εκτός του z-score που χρησιμοποιήθηκε παραπάνω\n",
        "# το ίδιο με  min max scaling\n",
        "#min_max_scaler = preprocessing.MinMaxScaler()\n",
        "#train_minmax = min_max_scaler.fit_transform(train_reduced)\n",
        "#test_minmax = min_max_scaler.transform(test_reduced)"
      ],
      "execution_count": 0,
      "outputs": []
    },
    {
      "cell_type": "markdown",
      "metadata": {
        "id": "bCdG5_FuF7DD",
        "colab_type": "text"
      },
      "source": [
        "###Μείωση της διαστατικότητας με εξαγωγή χαρακτηριστικών \n"
      ]
    },
    {
      "cell_type": "code",
      "metadata": {
        "trusted": true,
        "id": "YRISpj2BF7DG",
        "colab_type": "code",
        "outputId": "b588325e-d395-41d6-fc3b-9c95ac7961bb",
        "colab": {
          "base_uri": "https://localhost:8080/",
          "height": 34
        }
      },
      "source": [
        "from sklearn.decomposition import PCA\n",
        "\n",
        "n = 13\n",
        "pca = PCA(n_components=n)\n",
        "\n",
        "trainPCA = pca.fit_transform(train_scaled)\n",
        "testPCA = pca.transform(test_scaled)\n",
        "\n",
        "print(trainPCA.shape)"
      ],
      "execution_count": 74,
      "outputs": [
        {
          "output_type": "stream",
          "text": [
            "(676, 13)\n"
          ],
          "name": "stdout"
        }
      ]
    },
    {
      "cell_type": "code",
      "metadata": {
        "trusted": true,
        "id": "flMN7wq0F7DM",
        "colab_type": "code",
        "outputId": "35d432f9-1f4b-457a-e3c0-03fd720a9069",
        "colab": {
          "base_uri": "https://localhost:8080/",
          "height": 439
        }
      },
      "source": [
        "evar = pca.explained_variance_ratio_\n",
        "cum_evar = np.cumsum(evar)\n",
        "print(cum_evar)\n",
        "plt.figure(1, figsize=(6, 6))\n",
        "plt.xlabel(\"Principal Component number\")\n",
        "plt.ylabel('Cumulative Variance')\n",
        "plt.plot(cum_evar, linewidth=2)\n",
        "plt.show()"
      ],
      "execution_count": 77,
      "outputs": [
        {
          "output_type": "stream",
          "text": [
            "[0.57939688 0.74055872 0.84778223 0.92443806 0.95313268 0.97129351\n",
            " 0.98051302 0.98785913 0.99444636 0.99699759 0.9987863  0.9999535\n",
            " 1.        ]\n"
          ],
          "name": "stdout"
        },
        {
          "output_type": "display_data",
          "data": {
            "image/png": "[encoded data removed]",
            "text/plain": [
              "<Figure size 432x432 with 1 Axes>"
            ]
          },
          "metadata": {
            "tags": []
          }
        }
      ]
    },
    {
      "cell_type": "markdown",
      "metadata": {
        "id": "slCTETK1F7DT",
        "colab_type": "text"
      },
      "source": [
        "Από το γράφημα παρατηρούμε πως με μόλις 10 συνιστώσες περιγράφουμε σχεδόν το 100% του dataset και με μόλις 6 περιγράφουμε και πάλι ένα πολύ μεγάλο ποσοστό του dataset. Μπορούμε λοιπόν να μειώσουμε το n και στην τιμή 6 χωρίς να χάσουμε σχεδόν καθόλου πληροφορία. "
      ]
    },
    {
      "cell_type": "code",
      "metadata": {
        "trusted": true,
        "id": "Q4SOsurDF7DW",
        "colab_type": "code",
        "colab": {}
      },
      "source": [
        "n = 6\n",
        "pca = PCA(n_components=n)\n",
        "\n",
        "trainPCA = pca.fit_transform(train_scaled)\n",
        "testPCA = pca.transform(test_scaled)"
      ],
      "execution_count": 0,
      "outputs": []
    },
    {
      "cell_type": "code",
      "metadata": {
        "trusted": true,
        "colab_type": "code",
        "id": "Iduj3KUArfvD",
        "colab": {}
      },
      "source": [
        ""
      ],
      "execution_count": 0,
      "outputs": []
    },
    {
      "cell_type": "markdown",
      "metadata": {
        "id": "kP3JawayF7Di",
        "colab_type": "text"
      },
      "source": [
        "# Naive Bayes "
      ]
    },
    {
      "cell_type": "code",
      "metadata": {
        "trusted": true,
        "colab_type": "code",
        "id": "4vMRU8BNriF8",
        "colab": {}
      },
      "source": [
        "from sklearn.model_selection import cross_val_score\n",
        "def my_cv(metric):    \n",
        "    myList = list(range(1,50))\n",
        "    neighbors = list(filter(lambda x: x % 2 != 0, myList))\n",
        "    cv_scores = []\n",
        "    thres = [0.0,10.0,10000.0,100000000.0,1000000000000.0]\n",
        "    kpca = [5,10,15]\n",
        "    for n in kpca:\n",
        "        for k in neighbors:\n",
        "            for j in thres:\n",
        "              \n",
        "                selector = VarianceThreshold(threshold=j)\n",
        "                train_reduced = selector.fit_transform(train)\n",
        "                mask = selector.get_support()\n",
        "                test_reduced =test[:,mask]\n",
        "                \n",
        "                scaler = preprocessing.StandardScaler().fit(train_reduced)\n",
        "                train_scaled = scaler.transform(train_reduced)\n",
        "                test_scaled = scaler.transform(test_reduced)\n",
        "\n",
        "                ros = RandomOverSampler(random_state=0)\n",
        "                train_resampled, train_labels_resampled = ros.fit_sample(train_scaled,train_labels)\n",
        "\n",
        "                #n = 5\n",
        "                pca = PCA(n_components=n)\n",
        "\n",
        "                trainPCA = pca.fit_transform(train_resampled)\n",
        "                testPCA = pca.transform(test_scaled)\n",
        "\n",
        "                knn = KNeighborsClassifier(n_neighbors=k)\n",
        "                scores = cross_val_score(knn, trainPCA, train_labels_resampled, cv=10, scoring=metric)\n",
        "                cv_scores.append(scores.mean())\n",
        "                #print(\"k = \",k,\" thres = \",j,\" score = \",scores.mean())\n",
        "\n",
        "            MSE = [1 - x for x in cv_scores]\n",
        "    my_k = neighbors[(MSE.index(min(MSE))//len(thres))%len(neighbors)] #Διαιρούμε με τον αριθμό των διαφορετικών τιμών του threshold διότι ο εσωτερικός βρόχος εκτελείται τόσες φορές\n",
        "    #Έτσι για να βρούμε το σωστό γείτονα πρέπει να διαιρέσουμε το index που μας επιστρέφεται με τοτο πλήθος των επαναλήψεων που εκτελούνται για κάθε k\n",
        "    my_thres = thres[MSE.index(min(MSE))%len(thres)] #Όμοια για να βρούμε τη τιμή του κατωφλίου κρατάμε το υπόλοιπο της διαίρεσης του index με το πλήθος των διαφορετικών thresholds\n",
        "    my_pca = kpca[MSE.index(min(MSE))//(len(neighbors)*len(thres))]\n",
        "    return(my_k,my_thres,my_pca)"
      ],
      "execution_count": 0,
      "outputs": []
    },
    {
      "cell_type": "code",
      "metadata": {
        "trusted": true,
        "colab_type": "code",
        "outputId": "5c24d91a-ce71-41d2-854b-9bc72ddddbe5",
        "id": "_Z9OX36Trhsw",
        "colab": {
          "base_uri": "https://localhost:8080/",
          "height": 370
        }
      },
      "source": [
        "import warnings\n",
        "warnings.filterwarnings('always')\n",
        "\n",
        "(optimal_k_micro,optimal_thres_micro,optimal_pca_micro) = my_cv(\"f1_micro\")\n",
        "print(\"Optimal k for micro: \",optimal_k_micro,\", optimal thres: \",optimal_thres_micro, \" and optimal pca: \",optimal_pca_micro)\n",
        "\n",
        "(optimal_k_macro,optimal_thres_macro,optimal_pca_macro) = my_cv(\"f1_macro\")\n",
        "print(\"Optimal k for macro: \",optimal_k_macro, \", optimal thres: \",optimal_thres_macro, \" and optimal pca: \",optimal_pca_macro)"
      ],
      "execution_count": 0,
      "outputs": [
        {
          "output_type": "error",
          "ename": "NameError",
          "evalue": "ignored",
          "traceback": [
            "\u001b[0;31m---------------------------------------------------------------------------\u001b[0m",
            "\u001b[0;31mNameError\u001b[0m                                 Traceback (most recent call last)",
            "\u001b[0;32m<ipython-input-95-767b1ed16071>\u001b[0m in \u001b[0;36m<module>\u001b[0;34m()\u001b[0m\n\u001b[1;32m      2\u001b[0m \u001b[0mwarnings\u001b[0m\u001b[0;34m.\u001b[0m\u001b[0mfilterwarnings\u001b[0m\u001b[0;34m(\u001b[0m\u001b[0;34m'always'\u001b[0m\u001b[0;34m)\u001b[0m\u001b[0;34m\u001b[0m\u001b[0;34m\u001b[0m\u001b[0m\n\u001b[1;32m      3\u001b[0m \u001b[0;34m\u001b[0m\u001b[0m\n\u001b[0;32m----> 4\u001b[0;31m \u001b[0;34m(\u001b[0m\u001b[0moptimal_k_micro\u001b[0m\u001b[0;34m,\u001b[0m\u001b[0moptimal_thres_micro\u001b[0m\u001b[0;34m,\u001b[0m\u001b[0moptimal_pca_micro\u001b[0m\u001b[0;34m)\u001b[0m \u001b[0;34m=\u001b[0m \u001b[0mmy_cv\u001b[0m\u001b[0;34m(\u001b[0m\u001b[0;34m\"f1_micro\"\u001b[0m\u001b[0;34m)\u001b[0m\u001b[0;34m\u001b[0m\u001b[0;34m\u001b[0m\u001b[0m\n\u001b[0m\u001b[1;32m      5\u001b[0m \u001b[0mprint\u001b[0m\u001b[0;34m(\u001b[0m\u001b[0;34m\"Optimal k for micro: \"\u001b[0m\u001b[0;34m,\u001b[0m\u001b[0moptimal_k_micro\u001b[0m\u001b[0;34m,\u001b[0m\u001b[0;34m\", optimal thres: \"\u001b[0m\u001b[0;34m,\u001b[0m\u001b[0moptimal_thres_micro\u001b[0m\u001b[0;34m,\u001b[0m \u001b[0;34m\" and optimal pca: \"\u001b[0m\u001b[0;34m,\u001b[0m\u001b[0moptimal_pca_micro\u001b[0m\u001b[0;34m)\u001b[0m\u001b[0;34m\u001b[0m\u001b[0;34m\u001b[0m\u001b[0m\n\u001b[1;32m      6\u001b[0m \u001b[0;34m\u001b[0m\u001b[0m\n",
            "\u001b[0;32m<ipython-input-94-1b8bea681f27>\u001b[0m in \u001b[0;36mmy_cv\u001b[0;34m(metric)\u001b[0m\n\u001b[1;32m     19\u001b[0m                 \u001b[0mtest_scaled\u001b[0m \u001b[0;34m=\u001b[0m \u001b[0mscaler\u001b[0m\u001b[0;34m.\u001b[0m\u001b[0mtransform\u001b[0m\u001b[0;34m(\u001b[0m\u001b[0mtest_reduced\u001b[0m\u001b[0;34m)\u001b[0m\u001b[0;34m\u001b[0m\u001b[0;34m\u001b[0m\u001b[0m\n\u001b[1;32m     20\u001b[0m \u001b[0;34m\u001b[0m\u001b[0m\n\u001b[0;32m---> 21\u001b[0;31m                 \u001b[0mros\u001b[0m \u001b[0;34m=\u001b[0m \u001b[0mRandomOverSampler\u001b[0m\u001b[0;34m(\u001b[0m\u001b[0mrandom_state\u001b[0m\u001b[0;34m=\u001b[0m\u001b[0;36m0\u001b[0m\u001b[0;34m)\u001b[0m\u001b[0;34m\u001b[0m\u001b[0;34m\u001b[0m\u001b[0m\n\u001b[0m\u001b[1;32m     22\u001b[0m                 \u001b[0mtrain_resampled\u001b[0m\u001b[0;34m,\u001b[0m \u001b[0mtrain_labels_resampled\u001b[0m \u001b[0;34m=\u001b[0m \u001b[0mros\u001b[0m\u001b[0;34m.\u001b[0m\u001b[0mfit_sample\u001b[0m\u001b[0;34m(\u001b[0m\u001b[0mtrain_scaled\u001b[0m\u001b[0;34m,\u001b[0m\u001b[0mtrain_labels\u001b[0m\u001b[0;34m)\u001b[0m\u001b[0;34m\u001b[0m\u001b[0;34m\u001b[0m\u001b[0m\n\u001b[1;32m     23\u001b[0m \u001b[0;34m\u001b[0m\u001b[0m\n",
            "\u001b[0;31mNameError\u001b[0m: name 'RandomOverSampler' is not defined"
          ]
        }
      ]
    },
    {
      "cell_type": "markdown",
      "metadata": {
        "id": "SXTrtpo4F7Ds",
        "colab_type": "text"
      },
      "source": [
        "Παρατηρούμε πως οι βέλτιστες τιμές για το πλήθος των γειτόνων του knn, το variance threshold καθώς και τα components του PCA συμφωνούν και με τις 2 μετρικές (και τα δύο τρεξίματα του cross validation μας έδωσαν τα ίδια αποτελέσματα). Επισης παρατηρούμε πως ως βέλτιστη τιμή του variance threshold έχουμε 0.0 το οποίο σημαίνει ότι παίρνουμε καλύτερα αποτελέσματα χωρίς τον selector variance threshold μιας και δεν υπάρχει κάποιο χαρακτηριστικό με μηδενική διακύμανση άρα το μηδενικό κατώφλι διακύμανσης σημαίνει πως δεν \"κόβουμε\" κανένα χαρακτηριστικό με το selector. "
      ]
    },
    {
      "cell_type": "code",
      "metadata": {
        "trusted": true,
        "id": "J9ReNu6sF7Dt",
        "colab_type": "code",
        "colab": {}
      },
      "source": [
        "def test_run(selector,scaler,ros,pca):\n",
        "    \n",
        "    if(selector):\n",
        "        selector = VarianceThreshold(threshold = optimal_thres_macro)\n",
        "        train_reduced = selector.fit_transform(train)\n",
        "        mask = selector.get_support()\n",
        "        test_reduced =test[:,mask]\n",
        "    else:\n",
        "        train_reduced = train\n",
        "        test_reduced = test\n",
        "\n",
        "    if(scaler):\n",
        "        scaler = preprocessing.StandardScaler().fit(train_reduced)\n",
        "        train_scaled = scaler.transform(train_reduced)\n",
        "        test_scaled = scaler.transform(test_reduced)\n",
        "    else:\n",
        "        train_scaled = train_reduced\n",
        "        test_scaled = test_reduced\n",
        "        \n",
        "    if(ros):\n",
        "        ros = RandomOverSampler(random_state = 0)\n",
        "        train_resampled, train_labels_resampled = ros.fit_sample(train_scaled,train_labels)\n",
        "    else:\n",
        "        train_resampled = train_scaled\n",
        "        train_labels_resampled = train_labels\n",
        "\n",
        "    if(pca):\n",
        "        n = optimal_pca_micro\n",
        "        pca = PCA(n_components=n)\n",
        "\n",
        "        trainPCA = pca.fit_transform(train_resampled)\n",
        "        testPCA = pca.transform(test_scaled)\n",
        "    else:\n",
        "        trainPCA = train_resampled\n",
        "        testPCA = test_scaled\n",
        "        \n",
        "    knn = KNeighborsClassifier(n_neighbors = optimal_k_macro)\n",
        "    start_time = time.time()\n",
        "    knn.fit(trainPCA, train_labels_resampled)\n",
        "    times_train_2['kNN'] = time.time() - start_time\n",
        "    start_time = time.time()\n",
        "    pred_knn = knn.predict(testPCA)\n",
        "    times_test_2['kNN'] = time.time() - start_time\n",
        "\n",
        "    (pre,rec,f1,sup) = precision_recall_fscore_support(test_labels, pred_knn, average='micro')\n",
        "    print(\"kNN f1 micro:\",f1, \"\\n\")\n",
        "\n",
        "    (pre,rec,f1,sup) = precision_recall_fscore_support(test_labels, pred_knn, average='macro')\n",
        "    print(\"kNN f1 macro:\",f1, \"\\n\")\n",
        "    return(pred_knn)\n"
      ],
      "execution_count": 0,
      "outputs": []
    },
    {
      "cell_type": "code",
      "metadata": {
        "trusted": true,
        "scrolled": false,
        "id": "ATLg58YHF7Dz",
        "colab_type": "code",
        "outputId": "47f99ce3-f2bf-4e93-c821-02455e22f704",
        "colab": {}
      },
      "source": [
        "print(\"Used All (with optimal values)\")\n",
        "pred_knn = test_run(True,True,True,True)\n",
        "\n",
        "print(\"No Selector (with optimal values)\")\n",
        "test_run(False,True,True,True)\n",
        "\n",
        "print(\"No scaling (with optimal values)\")\n",
        "test_run(True,False,True,True)\n",
        "\n",
        "print(\"No Oversampling (with optimal values)\")\n",
        "test_run(True,True,False,True)\n",
        "\n",
        "print(\"No PCA (with optimal values)\")\n",
        "test_run(True,True,True,False)"
      ],
      "execution_count": 0,
      "outputs": [
        {
          "output_type": "stream",
          "text": [
            "Used All (with optimal values)\n",
            "kNN f1 micro: 0.6923076923076923 \n",
            "\n",
            "kNN f1 macro: 0.6601307189542485 \n",
            "\n",
            "No Selector (with optimal values)\n",
            "kNN f1 micro: 0.6923076923076923 \n",
            "\n",
            "kNN f1 macro: 0.6601307189542485 \n",
            "\n",
            "No scaling (with optimal values)\n",
            "kNN f1 micro: 0.4230769230769231 \n",
            "\n",
            "kNN f1 macro: 0.41529235382308843 \n",
            "\n",
            "No Oversampling (with optimal values)\n",
            "kNN f1 micro: 0.6923076923076923 \n",
            "\n",
            "kNN f1 macro: 0.6388888888888888 \n",
            "\n",
            "No PCA (with optimal values)\n",
            "kNN f1 micro: 0.6923076923076923 \n",
            "\n",
            "kNN f1 macro: 0.6601307189542485 \n",
            "\n"
          ],
          "name": "stdout"
        },
        {
          "output_type": "execute_result",
          "data": {
            "text/plain": [
              "array([1, 0, 1, 1, 0, 0, 0, 1, 1, 0, 0, 1, 0, 0, 1, 1, 1, 0, 1, 0, 1, 1,\n",
              "       1, 0, 1, 1])"
            ]
          },
          "metadata": {
            "tags": []
          },
          "execution_count": 99
        }
      ]
    },
    {
      "cell_type": "markdown",
      "metadata": {
        "id": "zXFQZbLhF7D4",
        "colab_type": "text"
      },
      "source": [
        "Καναμε μερικές δοκιμές χωρίς τη χρήση των διάφορων μέσων προεπεξεργασίας δεδομένων χρησιμοποιώντας στα αντίστοιχα πεδία τις βέλτιστες τιμές που προέκυψαν από το cross validation. Από τις τιμές των f1 όπου προέκυψαν καταλήγουμε στα εξής συμπεράσματα: Η χρήση selector δεν βελτιώνει τα αποτελέματα όπως αναφέρθηκε και νωρίτερα, όμοια και η χρήση PCA, μιας και με 10 συνιστώσες κρατάμε πιθανότατα όλο το ποσοστό πληροφορίας που απαιτείται για να έχουμε βέλτιστα αποτελέσματα. Σημαντική διαφορά παρατηρείται με τη χρήση και με του scaler, ενώ και η χρήση του oversampling δίνει καλύτερο αποτέλεσμα της μετρικής f1 macro και ίδιο αποτέλεσμα στη μετρική f1 micro. "
      ]
    },
    {
      "cell_type": "code",
      "metadata": {
        "trusted": true,
        "id": "B6b86-FIF7D5",
        "colab_type": "code",
        "outputId": "47faa367-d413-4b7a-e41c-4c32d0403c2b",
        "colab": {}
      },
      "source": [
        "print(\"New f1 micro\")\n",
        "f1_micro2 = f1_micro_compute(pred_uni,pred_const1,pred_const2,pred_most_freq,pred_start,pred_knn)\n",
        "print(\"New f1 macro\")\n",
        "f1_macro2 = f1_macro_compute(pred_uni,pred_const1,pred_const2,pred_most_freq,pred_start,pred_knn)\n",
        "\n",
        "print(\"f1 micro difference\")\n",
        "print(\"Uniform: \",f1_micro2[0] - f1_micro[0])\n",
        "print(\"Constant1: \",f1_micro2[1] - f1_micro[1])\n",
        "print(\"Constant2: \",f1_micro2[2] - f1_micro[2])\n",
        "print(\"Most Frequent: \",f1_micro2[3] - f1_micro[3])\n",
        "print(\"Startified: \",f1_micro2[4] - f1_micro[4])\n",
        "print(\"kNN: \",f1_micro2[5] - f1_micro[5])\n",
        "print()\n",
        "print(\"f1 macro difference\")\n",
        "print(\"Uniform: \",f1_macro2[0] - f1_macro[0])\n",
        "print(\"Constant1: \",f1_macro2[1] - f1_macro[1])\n",
        "print(\"Constant2: \",f1_macro2[2] - f1_macro[2])\n",
        "print(\"Most Frequent: \",f1_macro2[3] - f1_macro[3])\n",
        "print(\"Startified: \",f1_macro2[4] - f1_macro[4])\n",
        "print(\"kNN: \",f1_macro2[5] - f1_macro[5])\n"
      ],
      "execution_count": 0,
      "outputs": [
        {
          "output_type": "stream",
          "text": [
            "New f1 micro\n",
            "Uniform: 0.46153846153846156 \n",
            "\n",
            "Constant 1: 0.2692307692307692 \n",
            "\n",
            "Constant 2: 0.7307692307692306 \n",
            "\n",
            "Most Frequent: 0.2692307692307692 \n",
            "\n",
            "Startified: 0.4230769230769231 \n",
            "\n",
            "kNN: 0.6923076923076923 \n",
            "\n",
            "New f1 macro\n",
            "Uniform: 0.43125 \n",
            "\n",
            "Constant 1: 0.21212121212121213 \n",
            "\n",
            "Constant 2: 0.42222222222222217 \n",
            "\n",
            "Most Frequent: 0.21212121212121213 \n",
            "\n",
            "Startified: 0.37799043062200954 \n",
            "\n",
            "kNN: 0.6601307189542485 \n",
            "\n",
            "f1 micro difference\n",
            "Uniform:  0.03846153846153849\n",
            "Constant1:  0.0\n",
            "Constant2:  0.0\n",
            "Most Frequent:  -0.4615384615384614\n",
            "Startified:  0.0\n",
            "kNN:  0.11538461538461542\n",
            "\n",
            "f1 macro difference\n",
            "Uniform:  0.009027777777777857\n",
            "Constant1:  0.0\n",
            "Constant2:  0.0\n",
            "Most Frequent:  -0.21010101010101004\n",
            "Startified:  0.033452615495959126\n",
            "kNN:  0.14080298786181156\n"
          ],
          "name": "stdout"
        },
        {
          "output_type": "stream",
          "text": [
            "/home/nbuser/anaconda3_420/lib/python3.5/site-packages/sklearn/metrics/classification.py:1143: UndefinedMetricWarning: Precision and F-score are ill-defined and being set to 0.0 in labels with no predicted samples.\n",
            "  'precision', 'predicted', average, warn_for)\n",
            "/home/nbuser/anaconda3_420/lib/python3.5/site-packages/sklearn/metrics/classification.py:1143: UndefinedMetricWarning: Precision and F-score are ill-defined and being set to 0.0 in labels with no predicted samples.\n",
            "  'precision', 'predicted', average, warn_for)\n",
            "/home/nbuser/anaconda3_420/lib/python3.5/site-packages/sklearn/metrics/classification.py:1143: UndefinedMetricWarning: Precision and F-score are ill-defined and being set to 0.0 in labels with no predicted samples.\n",
            "  'precision', 'predicted', average, warn_for)\n"
          ],
          "name": "stderr"
        }
      ]
    },
    {
      "cell_type": "code",
      "metadata": {
        "trusted": true,
        "id": "_V7o6ruoF7D-",
        "colab_type": "code",
        "outputId": "cd91590e-c729-4a49-e14c-6f43b723577e",
        "colab": {}
      },
      "source": [
        "classifiers = ('uniform','constant 1','constant 2','most frequent','startified','kNN')\n",
        "\n",
        "x_axis = classifiers\n",
        "\n",
        "y_axis = f1_micro2\n",
        "plt.bar(x_axis,y_axis,width=0.4)\n",
        "plt.ylabel('F1')\n",
        "plt.xlabel('Classifier')\n",
        "plt.title('F1-micro average')\n",
        "plt.show()\n",
        "\n",
        "y_axis = f1_macro2\n",
        "plt.bar(x_axis,y_axis,width=0.4)\n",
        "plt.ylabel('F1')\n",
        "plt.xlabel('Classifier')\n",
        "plt.title('F1-macro average')\n",
        "plt.show()"
      ],
      "execution_count": 0,
      "outputs": [
        {
          "output_type": "display_data",
          "data": {
            "image/png": "[encoded data removed]",
            "text/plain": [
              "<matplotlib.figure.Figure at 0x7f6ecae65828>"
            ]
          },
          "metadata": {
            "tags": []
          }
        },
        {
          "output_type": "display_data",
          "data": {
            "image/png": "[encoded data removed]",
            "text/plain": [
              "<matplotlib.figure.Figure at 0x7f6ecae324e0>"
            ]
          },
          "metadata": {
            "tags": []
          }
        }
      ]
    },
    {
      "cell_type": "code",
      "metadata": {
        "trusted": true,
        "scrolled": false,
        "id": "on7Kvi54F7EE",
        "colab_type": "code",
        "outputId": "ef8cc4a3-31e4-4af8-c44f-4156640b648d",
        "colab": {}
      },
      "source": [
        "print(\"Train times Before\")\n",
        "for j in times_train_1:\n",
        "    print(j,\": \",times_train_1[j])\n",
        "\n",
        "print()\n",
        "\n",
        "print(\"Test times Before\")\n",
        "for j in times_train_1:\n",
        "    print(j,\": \",times_test_1[j])\n",
        "\n",
        "print()\n",
        "\n",
        "print(\"Train times After\")\n",
        "for j in times_train_2:\n",
        "    print(j,\": \",times_train_2[j])\n",
        "\n",
        "print()\n",
        "\n",
        "print(\"Test times After\")\n",
        "for j in times_train_2:\n",
        "    print(j,\": \",times_test_2[j])\n",
        "\n",
        "print()\n",
        "\n",
        "print(\"Difference in train:\")\n",
        "for j in times_train_1:\n",
        "    print(j,\": \",times_train_2[j] - times_train_1[j])\n",
        "\n",
        "print()\n",
        "print(\"Difference in test:\")\n",
        "for j in times_train_1:\n",
        "    print(j,\": \",times_test_2[j] - times_test_1[j])"
      ],
      "execution_count": 0,
      "outputs": [
        {
          "output_type": "stream",
          "text": [
            "Train times Before\n",
            "stratified :  0.00031685829162597656\n",
            "constant 1 :  0.0002608299255371094\n",
            "kNN :  0.0012161731719970703\n",
            "most frequent label :  0.00018167495727539062\n",
            "constant 2 :  0.00028014183044433594\n",
            "uniform (random) :  0.00045490264892578125\n",
            "\n",
            "Test times Before\n",
            "stratified :  0.0004763603210449219\n",
            "constant 1 :  0.00012969970703125\n",
            "kNN :  0.0020732879638671875\n",
            "most frequent label :  0.00022864341735839844\n",
            "constant 2 :  0.000156402587890625\n",
            "uniform (random) :  0.00021648406982421875\n",
            "\n",
            "Train times After\n",
            "stratified :  0.0005152225494384766\n",
            "constant 1 :  0.0006730556488037109\n",
            "kNN :  0.0008876323699951172\n",
            "most frequent label :  0.0006263256072998047\n",
            "constant 2 :  0.0005543231964111328\n",
            "uniform (random) :  0.0006053447723388672\n",
            "\n",
            "Test times After\n",
            "stratified :  0.00030684471130371094\n",
            "constant 1 :  0.0001742839813232422\n",
            "kNN :  0.002762317657470703\n",
            "most frequent label :  0.00020837783813476562\n",
            "constant 2 :  9.584426879882812e-05\n",
            "uniform (random) :  0.00021338462829589844\n",
            "\n",
            "Difference in train:\n",
            "stratified :  0.0001983642578125\n",
            "constant 1 :  0.00041222572326660156\n",
            "kNN :  -0.0003285408020019531\n",
            "most frequent label :  0.00044465065002441406\n",
            "constant 2 :  0.0002741813659667969\n",
            "uniform (random) :  0.00015044212341308594\n",
            "\n",
            "Difference in test:\n",
            "stratified :  -0.00016951560974121094\n",
            "constant 1 :  4.458427429199219e-05\n",
            "kNN :  0.0006890296936035156\n",
            "most frequent label :  -2.0265579223632812e-05\n",
            "constant 2 :  -6.0558319091796875e-05\n",
            "uniform (random) :  -3.0994415283203125e-06\n"
          ],
          "name": "stdout"
        }
      ]
    },
    {
      "cell_type": "code",
      "metadata": {
        "trusted": true,
        "id": "2v5i886WF7EK",
        "colab_type": "code",
        "outputId": "1ef17a4d-3b07-4d5d-ebc6-a1a019618395",
        "colab": {}
      },
      "source": [
        "print(\"Uniform\")\n",
        "print(classification_report(test_labels, pred_uni))\n",
        "print(\"Constant 1\")\n",
        "print(classification_report(test_labels, pred_const1))\n",
        "print(\"Constant 2\")\n",
        "print(classification_report(test_labels, pred_const2))\n",
        "print(\"Most Frequent\")\n",
        "print(classification_report(test_labels, pred_most_freq))\n",
        "print(\"Startified\")\n",
        "print(classification_report(test_labels, pred_start))\n",
        "print(\"kNN\")\n",
        "print(classification_report(test_labels, pred_knn))"
      ],
      "execution_count": 0,
      "outputs": [
        {
          "output_type": "stream",
          "text": [
            "Uniform\n",
            "              precision    recall  f1-score   support\n",
            "\n",
            "           0       0.23      0.43      0.30         7\n",
            "           1       0.69      0.47      0.56        19\n",
            "\n",
            "   micro avg       0.46      0.46      0.46        26\n",
            "   macro avg       0.46      0.45      0.43        26\n",
            "weighted avg       0.57      0.46      0.49        26\n",
            "\n",
            "Constant 1\n",
            "              precision    recall  f1-score   support\n",
            "\n",
            "           0       0.27      1.00      0.42         7\n",
            "           1       0.00      0.00      0.00        19\n",
            "\n",
            "   micro avg       0.27      0.27      0.27        26\n",
            "   macro avg       0.13      0.50      0.21        26\n",
            "weighted avg       0.07      0.27      0.11        26\n",
            "\n",
            "Constant 2\n",
            "              precision    recall  f1-score   support\n",
            "\n",
            "           0       0.00      0.00      0.00         7\n",
            "           1       0.73      1.00      0.84        19\n",
            "\n",
            "   micro avg       0.73      0.73      0.73        26\n",
            "   macro avg       0.37      0.50      0.42        26\n",
            "weighted avg       0.53      0.73      0.62        26\n",
            "\n",
            "Most Frequent\n",
            "              precision    recall  f1-score   support\n",
            "\n",
            "           0       0.27      1.00      0.42         7\n",
            "           1       0.00      0.00      0.00        19\n",
            "\n",
            "   micro avg       0.27      0.27      0.27        26\n",
            "   macro avg       0.13      0.50      0.21        26\n",
            "weighted avg       0.07      0.27      0.11        26\n",
            "\n",
            "Startified\n",
            "              precision    recall  f1-score   support\n",
            "\n",
            "           0       0.17      0.29      0.21         7\n",
            "           1       0.64      0.47      0.55        19\n",
            "\n",
            "   micro avg       0.42      0.42      0.42        26\n",
            "   macro avg       0.40      0.38      0.38        26\n",
            "weighted avg       0.51      0.42      0.46        26\n",
            "\n",
            "kNN\n",
            "              precision    recall  f1-score   support\n",
            "\n",
            "           0       0.45      0.71      0.56         7\n",
            "           1       0.87      0.68      0.76        19\n",
            "\n",
            "   micro avg       0.69      0.69      0.69        26\n",
            "   macro avg       0.66      0.70      0.66        26\n",
            "weighted avg       0.76      0.69      0.71        26\n",
            "\n"
          ],
          "name": "stdout"
        },
        {
          "output_type": "stream",
          "text": [
            "/home/nbuser/anaconda3_420/lib/python3.5/site-packages/sklearn/metrics/classification.py:1143: UndefinedMetricWarning: Precision and F-score are ill-defined and being set to 0.0 in labels with no predicted samples.\n",
            "  'precision', 'predicted', average, warn_for)\n",
            "/home/nbuser/anaconda3_420/lib/python3.5/site-packages/sklearn/metrics/classification.py:1143: UndefinedMetricWarning: Precision and F-score are ill-defined and being set to 0.0 in labels with no predicted samples.\n",
            "  'precision', 'predicted', average, warn_for)\n",
            "/home/nbuser/anaconda3_420/lib/python3.5/site-packages/sklearn/metrics/classification.py:1143: UndefinedMetricWarning: Precision and F-score are ill-defined and being set to 0.0 in labels with no predicted samples.\n",
            "  'precision', 'predicted', average, warn_for)\n",
            "/home/nbuser/anaconda3_420/lib/python3.5/site-packages/sklearn/metrics/classification.py:1143: UndefinedMetricWarning: Precision and F-score are ill-defined and being set to 0.0 in labels with no predicted samples.\n",
            "  'precision', 'predicted', average, warn_for)\n",
            "/home/nbuser/anaconda3_420/lib/python3.5/site-packages/sklearn/metrics/classification.py:1143: UndefinedMetricWarning: Precision and F-score are ill-defined and being set to 0.0 in labels with no predicted samples.\n",
            "  'precision', 'predicted', average, warn_for)\n",
            "/home/nbuser/anaconda3_420/lib/python3.5/site-packages/sklearn/metrics/classification.py:1143: UndefinedMetricWarning: Precision and F-score are ill-defined and being set to 0.0 in labels with no predicted samples.\n",
            "  'precision', 'predicted', average, warn_for)\n",
            "/home/nbuser/anaconda3_420/lib/python3.5/site-packages/sklearn/metrics/classification.py:1143: UndefinedMetricWarning: Precision and F-score are ill-defined and being set to 0.0 in labels with no predicted samples.\n",
            "  'precision', 'predicted', average, warn_for)\n",
            "/home/nbuser/anaconda3_420/lib/python3.5/site-packages/sklearn/metrics/classification.py:1143: UndefinedMetricWarning: Precision and F-score are ill-defined and being set to 0.0 in labels with no predicted samples.\n",
            "  'precision', 'predicted', average, warn_for)\n",
            "/home/nbuser/anaconda3_420/lib/python3.5/site-packages/sklearn/metrics/classification.py:1143: UndefinedMetricWarning: Precision and F-score are ill-defined and being set to 0.0 in labels with no predicted samples.\n",
            "  'precision', 'predicted', average, warn_for)\n"
          ],
          "name": "stderr"
        }
      ]
    },
    {
      "cell_type": "markdown",
      "metadata": {
        "trusted": true,
        "id": "w9Q7ILbGF7EO",
        "colab_type": "text"
      },
      "source": [
        "Μετά την προεπεξεργασία και τη βελτιστοποίηση παραμέτρων παρατηρούμε σημαντική βελτίωση των f1 micro και f1 macro μετρικών του ταξινομητή kNN. Αντίστοιχα για τους dummy ταξινομητές constant δεν υπάρχει καμία αλλαγή στις f1 μετρικές τους ενώ έχουμε μικρή βελτίωση για τον uniform και πολύ χειρότερες τιμές για τους most frequent το οποίο πιθανότατα οφείλεται στην εξισορρόπηση των δεδομένων."
      ]
    },
    {
      "cell_type": "markdown",
      "metadata": {
        "id": "PWT3y9PdF7EQ",
        "colab_type": "text"
      },
      "source": [
        "Σχετικά με τους χρόνους εκπαίδευσης και πρόβλεψης παρατηρούμε το εξής \"παράδοξο\": ο χρόνος εκπαίδευσης του kNN ταξινομητή σε ορισμένα τρεξίματα μεγαλώνει με τα τελικά δεδομένα παρά τη σημαντική μείωση της διαστατικότητας, ενώ πολλοί θα περίμεναν λόγω του μικρότερου πλήθους χαρακτηριστικών να έχουμε και πολύ μικρότερο χρόνο εκπαίδευσης. Αυτό όμως πιθανόν να οφείλεται στο γεγονός ότι αν και μειώθηκαν σημαντικά τα χαρακτηριστικά, αυξήθηκαν τα δείγματα μέσω της εξισορρόπησης του δείγματος με αποτέλεσμα τον μεγαλύτερο χρόνο εκπαίδευσης. Σε γενικότερο πλαίσιο όμως οι χρόνο τόσο εκπαίδευσης (train) όσο και πρόβλεψης (test) δεν είχαν σημαντικές διαφορές."
      ]
    },
    {
      "cell_type": "code",
      "metadata": {
        "trusted": true,
        "id": "I-uV-rAlF7EQ",
        "colab_type": "code",
        "colab": {}
      },
      "source": [
        ""
      ],
      "execution_count": 0,
      "outputs": []
    }
  ]
}